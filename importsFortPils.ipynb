{
 "cells": [
  {
   "cell_type": "code",
   "execution_count": null,
   "id": "09d8ce38-7d06-4d73-8e26-3929d37ef419",
   "metadata": {
    "editable": true,
    "slideshow": {
     "slide_type": ""
    },
    "tags": []
   },
   "outputs": [],
   "source": [
    "from imports.importEasyPils import importEasyPils\n",
    "from imports.importEasyMobilePils import importEasyMobilePils  \n",
    "from imports.importEasyPilsParameters import importEasyPilsParameters  \n",
    "from imports.importEasyPilsFix import importEasyPilsFix  \n",
    "\n",
    "    #runners\n",
    "def runImports():\n",
    "    importEasyPils().run()\n",
    "    importEasyMobilePils().run()\n",
    "    importEasyPilsParameters().run()\n",
    "    importEasyPilsFix().run() \n",
    "    exit()   \n",
    "\n",
    "try:\n",
    "    runImports()\n",
    "except SystemExit as _e:\n",
    "    print(_e)"
   ]
  }
 ],
 "metadata": {
  "kernelspec": {
   "display_name": "Python 3 (ipykernel)",
   "language": "python",
   "name": "python3"
  },
  "language_info": {
   "codemirror_mode": {
    "name": "ipython",
    "version": 3
   },
   "file_extension": ".py",
   "mimetype": "text/x-python",
   "name": "python",
   "nbconvert_exporter": "python",
   "pygments_lexer": "ipython3",
   "version": "3.8.19"
  }
 },
 "nbformat": 4,
 "nbformat_minor": 5
}
