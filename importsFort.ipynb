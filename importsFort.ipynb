{
 "cells": [
  {
   "cell_type": "code",
   "execution_count": null,
   "id": "09d8ce38-7d06-4d73-8e26-3929d37ef419",
   "metadata": {
    "editable": true,
    "slideshow": {
     "slide_type": ""
    },
    "tags": []
   },
   "outputs": [],
   "source": [
    "from imports.importEasyPils import importEasyPils\n",
    "from imports.importEasyMobilePils import importEasyMobilePils  \n",
    "from imports.importEasyContracts import importEasyContracts  \n",
    "from imports.importEasyContacts import importEasyContacts  \n",
    "from imports.importEasyPhoneCalls import importEasyPhoneCalls  \n",
    "from imports.importEasyAppointments import importEasyAppointments  \n",
    "from imports.importEasyProjects import importEasyProjects  \n",
    "from imports.importEasyProjectUsers import importEasyProjectUsers  \n",
    "from imports.importEasyProjectProducts import importEasyProjectProducts  \n",
    "from imports.importEasyProjectProductPrms import importEasyProjectProductPrms  \n",
    "from imports.importEasyPils import importEasyPils  \n",
    "from imports.importEasyPilsParameters import importEasyPilsParameters  \n",
    "from imports.importEasyPilsFix import importEasyPilsFix  \n",
    "from imports.importEasyProjectsContracts import importEasyProjectsContracts\n",
    "\n",
    "#runners\n",
    "importEasyPilsParameters().run()\n",
    "importEasyPils().run()\n",
    "importEasyMobilePils().run()\n",
    "importEasyPilsFix().run()\n",
    "importEasyContacts().run()\n",
    "importEasyPhoneCalls().run()\n",
    "importEasyAppointments().run()\n",
    "importEasyContracts().run()\n",
    "importEasyProjects().run()\n",
    "importEasyProjectUsers().run()\n",
    "importEasyProjectProducts().run()\n",
    "importEasyProjectProductPrms().run()\n",
    "importEasyProjectsContracts.run()"
   ]
  },
  {
   "cell_type": "code",
   "execution_count": null,
   "id": "1f476da9-a1f3-42f6-b005-da78a92fffeb",
   "metadata": {},
   "outputs": [],
   "source": []
  }
 ],
 "metadata": {
  "kernelspec": {
   "display_name": "Python 3 (ipykernel)",
   "language": "python",
   "name": "python3"
  },
  "language_info": {
   "codemirror_mode": {
    "name": "ipython",
    "version": 3
   },
   "file_extension": ".py",
   "mimetype": "text/x-python",
   "name": "python",
   "nbconvert_exporter": "python",
   "pygments_lexer": "ipython3",
   "version": "3.8.19"
  }
 },
 "nbformat": 4,
 "nbformat_minor": 5
}
