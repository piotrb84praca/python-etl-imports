{
 "cells": [
  {
   "cell_type": "code",
   "execution_count": null,
   "id": "09d8ce38-7d06-4d73-8e26-3929d37ef419",
   "metadata": {
    "editable": true,
    "slideshow": {
     "slide_type": ""
    },
    "tags": []
   },
   "outputs": [],
   "source": [
    "from imports.importEasyContracts import importEasyContracts  \n",
    "from imports.importEasyContacts import importEasyContacts  \n",
    "from imports.importEasyPhoneCalls import importEasyPhoneCalls  \n",
    "from imports.importEasyAppointments import importEasyAppointments  \n",
    "from imports.importEasyStatusHistory  import importEasyStatusHistory  \n",
    "from imports.importEasyFixOrders import importEasyFixOrders  \n",
    "from imports.importEasyFixOrdersValue import importEasyFixOrdersValue  \n",
    "from imports.importEasyPotential import importEasyPotential \n",
    "from imports.importEasyProjectLastPils import importEasyProjectLastPils \n",
    "from imports.importEasyCampaignsLME import importEasyCampaignsLME \n",
    "from imports.importEasyEOrder import importEasyEOrder \n",
    "from imports.importEasyEContracts import importEasyEContracts \n",
    "\n",
    "    #runners\n",
    "def runImports():\n",
    "    importEasyContracts().run()\n",
    "    importEasyContacts().run()\n",
    "    importEasyPhoneCalls().run()\n",
    "    importEasyAppointments().run()\n",
    "    importEasyStatusHistory().run()   \n",
    "    importEasyStatusHistory().run()   \n",
    "    importEasyFixOrders().run()   \n",
    "    importEasyFixOrdersValue().run()   \n",
    "    importEasyPotential().run()   \n",
    "    importEasyProjectLastPils().run()   \n",
    "    importEasyCampaignsLME().run()   \n",
    "    importEasyEOrder().run()   \n",
    "    importEasyEContracts().run()   \n",
    "    \n",
    "    exit()\n",
    "    \n",
    "\n",
    "try:\n",
    "    runImports()\n",
    "except SystemExit as _e:\n",
    "    print(_e)"
   ]
  }
 ],
 "metadata": {
  "kernelspec": {
   "display_name": "Python 3 (ipykernel)",
   "language": "python",
   "name": "python3"
  },
  "language_info": {
   "codemirror_mode": {
    "name": "ipython",
    "version": 3
   },
   "file_extension": ".py",
   "mimetype": "text/x-python",
   "name": "python",
   "nbconvert_exporter": "python",
   "pygments_lexer": "ipython3",
   "version": "3.8.19"
  }
 },
 "nbformat": 4,
 "nbformat_minor": 5
}
