{
 "cells": [
  {
   "cell_type": "code",
   "execution_count": null,
   "id": "09d8ce38-7d06-4d73-8e26-3929d37ef419",
   "metadata": {
    "editable": true,
    "slideshow": {
     "slide_type": ""
    },
    "tags": []
   },
   "outputs": [],
   "source": [
    "from imports.importEasyProjects import importEasyProjects  \n",
    "from imports.importEasyProjectUsers import importEasyProjectUsers  \n",
    "from imports.importEasyProjectProducts import importEasyProjectProducts  \n",
    "from imports.importEasyProjectProductPrms import importEasyProjectProductPrms  \n",
    "from imports.importEasyProjectsContracts import importEasyProjectsContracts\n",
    "\n",
    "\n",
    "    #runners\n",
    "def runImports():\n",
    "    importEasyProjects().run()\n",
    "    importEasyProjectUsers().run()\n",
    "    importEasyProjectProducts().run()\n",
    "    importEasyProjectProductPrms().run()\n",
    "    importEasyProjectsContracts().run()    \n",
    "    exit()\n",
    "    \n",
    "\n",
    "try:\n",
    "    runImports()\n",
    "except SystemExit as _e:\n",
    "    print(_e)"
   ]
  }
 ],
 "metadata": {
  "kernelspec": {
   "display_name": "Python 3 (ipykernel)",
   "language": "python",
   "name": "python3"
  },
  "language_info": {
   "codemirror_mode": {
    "name": "ipython",
    "version": 3
   },
   "file_extension": ".py",
   "mimetype": "text/x-python",
   "name": "python",
   "nbconvert_exporter": "python",
   "pygments_lexer": "ipython3",
   "version": "3.8.19"
  }
 },
 "nbformat": 4,
 "nbformat_minor": 5
}
